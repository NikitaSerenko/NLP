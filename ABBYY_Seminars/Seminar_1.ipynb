{
 "cells": [
  {
   "cell_type": "code",
   "execution_count": 48,
   "metadata": {},
   "outputs": [
    {
     "name": "stdout",
     "output_type": "stream",
     "text": [
      "Requirement already satisfied: pymorphy2 in /home/cheshire/Applications/anaconda3/lib/python3.6/site-packages\n",
      "Requirement already satisfied: pymorphy2-dicts<3.0,>=2.4 in /home/cheshire/Applications/anaconda3/lib/python3.6/site-packages (from pymorphy2)\n",
      "Requirement already satisfied: dawg-python>=0.7 in /home/cheshire/Applications/anaconda3/lib/python3.6/site-packages (from pymorphy2)\n",
      "Requirement already satisfied: docopt>=0.6 in /home/cheshire/Applications/anaconda3/lib/python3.6/site-packages (from pymorphy2)\n"
     ]
    }
   ],
   "source": [
    "!pip install pymorphy2"
   ]
  },
  {
   "cell_type": "code",
   "execution_count": 49,
   "metadata": {},
   "outputs": [],
   "source": [
    "import pymorphy2\n",
    "morphAnalyzer = pymorphy2.MorphAnalyzer()"
   ]
  },
  {
   "cell_type": "code",
   "execution_count": 50,
   "metadata": {},
   "outputs": [
    {
     "name": "stdout",
     "output_type": "stream",
     "text": [
      "рука\n"
     ]
    }
   ],
   "source": [
    "print(morphAnalyzer.parse('руки')[2].normal_form)"
   ]
  },
  {
   "cell_type": "code",
   "execution_count": 51,
   "metadata": {},
   "outputs": [
    {
     "name": "stdout",
     "output_type": "stream",
     "text": [
      "[Parse(word='руки', tag=OpencorporaTag('NOUN,inan,femn sing,gent'), normal_form='рука', score=0.851851, methods_stack=((<DictionaryAnalyzer>, 'руки', 43, 1),)), Parse(word='руки', tag=OpencorporaTag('NOUN,inan,femn plur,accs'), normal_form='рука', score=0.111111, methods_stack=((<DictionaryAnalyzer>, 'руки', 43, 10),)), Parse(word='руки', tag=OpencorporaTag('NOUN,inan,femn plur,nomn'), normal_form='рука', score=0.037037, methods_stack=((<DictionaryAnalyzer>, 'руки', 43, 7),))]\n"
     ]
    }
   ],
   "source": [
    "print(morphAnalyzer.parse('руки'))"
   ]
  },
  {
   "cell_type": "code",
   "execution_count": 52,
   "metadata": {},
   "outputs": [
    {
     "name": "stdout",
     "output_type": "stream",
     "text": [
      "normal_form: рука, tag: NOUN,inan,femn sing,gent, score: 0.851851\n",
      "normal_form: рука, tag: NOUN,inan,femn plur,accs, score: 0.111111\n",
      "normal_form: рука, tag: NOUN,inan,femn plur,nomn, score: 0.037037\n"
     ]
    }
   ],
   "source": [
    "def morph_analyzer(word):\n",
    "    for i in morphAnalyzer.parse(word):\n",
    "        print('normal_form: {}, tag: {}, score: {}'.format(i.normal_form, i.tag, i.score))\n",
    "        \n",
    "morph_analyzer('руки')"
   ]
  },
  {
   "cell_type": "code",
   "execution_count": 53,
   "metadata": {},
   "outputs": [
    {
     "name": "stdout",
     "output_type": "stream",
     "text": [
      "normal_form: три, tag: NUMR inan,accs, score: 0.571428\n",
      "normal_form: три, tag: NUMR nomn, score: 0.285714\n",
      "normal_form: тереть, tag: VERB,impf,tran sing,impr,excl, score: 0.142857\n"
     ]
    }
   ],
   "source": [
    "morph_analyzer('три')"
   ]
  },
  {
   "cell_type": "code",
   "execution_count": 54,
   "metadata": {
    "scrolled": true
   },
   "outputs": [
    {
     "name": "stdout",
     "output_type": "stream",
     "text": [
      "стать\n",
      "стал\n",
      "стала\n",
      "стало\n",
      "стали\n",
      "стану\n",
      "станем\n",
      "станешь\n",
      "станете\n",
      "станет\n",
      "станут\n",
      "станем\n",
      "станемте\n",
      "стань\n",
      "станьте\n",
      "ставший\n",
      "ставшего\n",
      "ставшему\n",
      "ставшего\n",
      "ставший\n",
      "ставшим\n",
      "ставшем\n",
      "ставшая\n",
      "ставшей\n",
      "ставшей\n",
      "ставшую\n",
      "ставшей\n",
      "ставшею\n",
      "ставшей\n",
      "ставшее\n",
      "ставшего\n",
      "ставшему\n",
      "ставшее\n",
      "ставшим\n",
      "ставшем\n",
      "ставшие\n",
      "ставших\n",
      "ставшим\n",
      "ставших\n",
      "ставшие\n",
      "ставшими\n",
      "ставших\n",
      "став\n",
      "ставши\n"
     ]
    }
   ],
   "source": [
    "def get_lexeme():\n",
    "    for i in morph.parse('стать')[0].lexeme:\n",
    "        print(i.word)\n",
    "\n",
    "get_lexeme()"
   ]
  },
  {
   "cell_type": "code",
   "execution_count": 55,
   "metadata": {},
   "outputs": [
    {
     "data": {
      "text/plain": [
       "'турок'"
      ]
     },
     "execution_count": 55,
     "metadata": {},
     "output_type": "execute_result"
    }
   ],
   "source": [
    "morph.parse('турок')[0].inflect({'sing', 'nomn'}).word"
   ]
  },
  {
   "cell_type": "code",
   "execution_count": 56,
   "metadata": {},
   "outputs": [
    {
     "name": "stdout",
     "output_type": "stream",
     "text": [
      "NOUN\n"
     ]
    }
   ],
   "source": [
    "print('{}'.format(morph.parse('майню')[0].tag).split(',')[0])"
   ]
  },
  {
   "cell_type": "code",
   "execution_count": 57,
   "metadata": {
    "collapsed": true
   },
   "outputs": [],
   "source": [
    "import re\n",
    "from collections import Counter\n",
    "\n",
    "\n",
    "def text_to_wordlist(sentence):\n",
    "    regexp = \"[^а-яА-Яё]\"\n",
    "    sentence = re.sub(regexp, \" \", sentence)\n",
    "    result = sentence.lower().split()\n",
    "    return result"
   ]
  },
  {
   "cell_type": "code",
   "execution_count": 58,
   "metadata": {},
   "outputs": [
    {
     "name": "stdout",
     "output_type": "stream",
     "text": [
      "[('князь', 876), ('андрей', 404), ('человек', 365), ('лицо', 359), ('пьер', 344), ('рука', 316), ('ростов', 316), ('глаз', 263), ('офицер', 230), ('княжна', 218)]\n",
      "[('быть', 1469), ('сказать', 839), ('говорить', 399), ('мочь', 387), ('знать', 230), ('думать', 167), ('хотеть', 167), ('стать', 130), ('видеть', 128), ('смотреть', 117)]\n"
     ]
    }
   ],
   "source": [
    "with open('data/first.txt', encoding='utf-8') as file:\n",
    "    text = file.read()\n",
    "    text = text_to_wordlist(text)\n",
    "\n",
    "    text = [morph.parse(word)[0] for word in text]\n",
    "\n",
    "    nouns = Counter()\n",
    "    verbs = Counter()\n",
    "    for word in text:\n",
    "        if word.tag.POS == \"NOUN\":\n",
    "            nouns[word.normal_form] += 1\n",
    "        elif word.tag.POS == \"VERB\":\n",
    "            verbs[word.normal_form] += 1\n",
    "\n",
    "    print(nouns.most_common(10))\n",
    "    print(verbs.most_common(10))"
   ]
  }
 ],
 "metadata": {
  "kernelspec": {
   "display_name": "Python 3",
   "language": "python",
   "name": "python3"
  },
  "language_info": {
   "codemirror_mode": {
    "name": "ipython",
    "version": 3
   },
   "file_extension": ".py",
   "mimetype": "text/x-python",
   "name": "python",
   "nbconvert_exporter": "python",
   "pygments_lexer": "ipython3",
   "version": "3.6.1"
  }
 },
 "nbformat": 4,
 "nbformat_minor": 2
}
